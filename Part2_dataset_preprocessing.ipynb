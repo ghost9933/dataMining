{
  "nbformat": 4,
  "nbformat_minor": 0,
  "metadata": {
    "colab": {
      "provenance": [],
      "include_colab_link": true
    },
    "kernelspec": {
      "name": "python3",
      "display_name": "Python 3"
    },
    "language_info": {
      "name": "python"
    }
  },
  "cells": [
    {
      "cell_type": "markdown",
      "metadata": {
        "id": "view-in-github",
        "colab_type": "text"
      },
      "source": [
        "<a href=\"https://colab.research.google.com/github/ghost9933/dataMining/blob/main/Part2_dataset_preprocessing.ipynb\" target=\"_parent\"><img src=\"https://colab.research.google.com/assets/colab-badge.svg\" alt=\"Open In Colab\"/></a>"
      ]
    },
    {
      "cell_type": "markdown",
      "source": [
        "\n",
        "***Part2***           \n",
        "This Part of your project  consists of the data exploration(DEA) and data preprocessing.\n",
        "\n",
        "1.   When you work on this assignment, you should make a copy of this notebook in Google Colab. This can be done using the option File > Save a copy in Drive in Google Colab.\n",
        "2.   You should fill in your answer for each task inside the code block right\n",
        "under the task.\n",
        "3.   You should only insert your code into the designated code blocks, as mentioned above.\n",
        "2.   For each code block, you are free to use multiple lines of code.\n",
        "3.   Even if you can only partially solve a task, you should include your code in the code block, which allows us to consider partial credit.However, your code should not raise errors. Any code raising errors will not get partial credit.\n",
        "2.   We will test your code in Google Colab. Make sure your code runs in Google Colab.\n",
        "1.   To submit your assignment, download your Colab into a .ipynb file. This can be done using the option Download > Download .ipynb in Google Colab.\n",
        "2.   Submit the downloaded .ipynb file into Project->Part2 entry in Canvas.\n",
        "1.   One Submission per group\n",
        "\n",
        "\n",
        "\n"
      ],
      "metadata": {
        "id": "q_3mK52gtlUx"
      }
    },
    {
      "cell_type": "markdown",
      "source": [
        "         \n",
        "**Task1:**Load the dataset [3 points]\n",
        "   \n",
        "**Task2:** Provide descriptions of your samples and features\n",
        "*   Variables(features) name and meaning(example:Ncampaign --> number of contacts made to the client during the campaign)[10 points]\n",
        "*   Number\n",
        "*   Type\n",
        "*   Mean value\n",
        "*   Standard deviation\n",
        "*   Minimum and maximum values\n",
        "\n",
        "**Task3**: Check if you have missing values in your dataset [3 points]                 \n",
        "**Task4:** Choose a way to handal your missing value with detailed [7points]explanation of your choice.                                   \n",
        "**Task5**: Check if you have duplicate values in your dataset. [3 points]               \n",
        "**Task6**: Choose a way to handal your duplicate values with with detailed explanation of your choice.  [7 points]                   \n",
        "**Task7** :Identify significant correlations by calculation and [7 points]visualization.                        \n",
        "\n",
        "**Task8:** Check if you have outliers using the visualization way with detailed explanation [5 points]                   \n",
        "**Task9**:Perform visualizations of the features with respect to target variable(if you have) with detailed explanation.[15 points]\n",
        "*   ScatterPlot\n",
        "*   Histograms\n",
        "*   Distplot\n",
        "*   Stripplot\n",
        "*   Violionplot   \n",
        "Use comments to explain your code and variable names. [5points].   \n",
        "Demo[20points]\n",
        "\n",
        "         "
      ],
      "metadata": {
        "id": "WXYXrv8ibCP7"
      }
    },
    {
      "cell_type": "code",
      "source": [
        "# Importing packages (you may need more libraries )\n",
        "import numpy as np\n",
        "from sklearn import preprocessing\n",
        "import pandas as pd\n",
        "import seaborn as sns\n",
        "import matplotlib.pyplot as plt\n",
        "%matplotlib inline"
      ],
      "metadata": {
        "id": "-VitHksuk7ec"
      },
      "execution_count": null,
      "outputs": []
    },
    {
      "cell_type": "code",
      "source": [
        "#Task1"
      ],
      "metadata": {
        "id": "zNQ3V5damnRK"
      },
      "execution_count": null,
      "outputs": []
    },
    {
      "cell_type": "code",
      "source": [
        "#Task2"
      ],
      "metadata": {
        "id": "46HqZm5Epz7v"
      },
      "execution_count": null,
      "outputs": []
    },
    {
      "cell_type": "code",
      "source": [
        "#Task3"
      ],
      "metadata": {
        "id": "WCNoJBEfpzzu"
      },
      "execution_count": null,
      "outputs": []
    },
    {
      "cell_type": "code",
      "source": [
        "#Task4"
      ],
      "metadata": {
        "id": "_FowjWzdpzrE"
      },
      "execution_count": null,
      "outputs": []
    },
    {
      "cell_type": "code",
      "source": [
        "#Task5"
      ],
      "metadata": {
        "id": "7wCf9nNvpzic"
      },
      "execution_count": null,
      "outputs": []
    },
    {
      "cell_type": "code",
      "source": [
        "#Task6"
      ],
      "metadata": {
        "id": "fZYkXwJopzZY"
      },
      "execution_count": null,
      "outputs": []
    },
    {
      "cell_type": "code",
      "source": [
        "#Task7"
      ],
      "metadata": {
        "id": "fJlcfkx-pzQc"
      },
      "execution_count": null,
      "outputs": []
    },
    {
      "cell_type": "code",
      "source": [
        "#Task8"
      ],
      "metadata": {
        "id": "eyqWG8VGpzFe"
      },
      "execution_count": null,
      "outputs": []
    },
    {
      "cell_type": "code",
      "source": [
        "#Task9"
      ],
      "metadata": {
        "id": "GOX5apyhvoRn"
      },
      "execution_count": null,
      "outputs": []
    },
    {
      "cell_type": "markdown",
      "source": [
        "**GOOD JOb**"
      ],
      "metadata": {
        "id": "W30yH0b9ydrw"
      }
    }
  ]
}